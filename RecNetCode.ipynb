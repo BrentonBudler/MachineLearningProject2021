{
 "cells": [
  {
   "cell_type": "markdown",
   "id": "cbffde16",
   "metadata": {},
   "source": [
    "# RecNet: A Deep Learning Based Collaborative Filtering Recommender System\n",
    "This notebook contains all the accompanying code for the paper _RecNet: A Deep Learning Based Collaborative Filtering Recommender System_ by B. Budler and T. Packirisamy. "
   ]
  },
  {
   "cell_type": "code",
   "execution_count": 2,
   "id": "feedb294",
   "metadata": {},
   "outputs": [],
   "source": [
    "import pandas as pd\n",
    "import numpy as np\n",
    "from sklearn.model_selection import train_test_split\n",
    "import torch\n",
    "from torch.utils.data import Dataset, DataLoader\n",
    "import matplotlib.pyplot as plt\n",
    "import torch.nn as nn\n",
    "from sklearn import preprocessing\n",
    "import torch.optim as optim\n",
    "\n",
    "device = torch.device(\"cuda:0\" if torch.cuda.is_available() else \"cpu\")"
   ]
  },
  {
   "cell_type": "markdown",
   "id": "338aacf2",
   "metadata": {},
   "source": [
    "## 1. Baseline Collaborative Filtering Approach "
   ]
  },
  {
   "cell_type": "code",
   "execution_count": 3,
   "id": "911151a1",
   "metadata": {
    "scrolled": false
   },
   "outputs": [],
   "source": [
    "#read in data\n",
    "ratings = pd.read_csv('ratings100k.csv')\n",
    "\n",
    "#drop timestamp since temporal data is not used\n",
    "ratings = ratings.drop('timestamp',axis =1)\n",
    "ratings.head()\n",
    "\n",
    "#encode user ids and movie ids to monotonic integers (without gaps)\n",
    "user_encoder = preprocessing.LabelEncoder()\n",
    "movie_encoder = preprocessing.LabelEncoder()\n",
    "ratings.userId = user_encoder.fit_transform(ratings.userId.values)\n",
    "ratings.movieId = movie_encoder.fit_transform(ratings.movieId.values)\n",
    "\n",
    "#find the number of unique classes for movies and users\n",
    "num_users = len(pd.value_counts(ratings.userId))\n",
    "num_movies = len(pd.value_counts(ratings.movieId))\n",
    "\n",
    "#splitting data in train, test and cross vaildation sets\n",
    "train, test = train_test_split(ratings, test_size=0.2, random_state=7)\n",
    "test, cv = train_test_split(test, test_size=0.5, random_state=7)\n"
   ]
  },
  {
   "cell_type": "markdown",
   "id": "0fad9b16",
   "metadata": {},
   "source": [
    "With the dataset ingested, the user_movie matrix can be created. Each user is represented by a column while each movie is represented by a row. A <code>NaN</code> value indicates a missing rating where a given movie has not yet been rated by a specific user. "
   ]
  },
  {
   "cell_type": "code",
   "execution_count": 92,
   "id": "cbec1699",
   "metadata": {
    "scrolled": true
   },
   "outputs": [
    {
     "data": {
      "text/html": [
       "<div>\n",
       "<style scoped>\n",
       "    .dataframe tbody tr th:only-of-type {\n",
       "        vertical-align: middle;\n",
       "    }\n",
       "\n",
       "    .dataframe tbody tr th {\n",
       "        vertical-align: top;\n",
       "    }\n",
       "\n",
       "    .dataframe thead th {\n",
       "        text-align: right;\n",
       "    }\n",
       "</style>\n",
       "<table border=\"1\" class=\"dataframe\">\n",
       "  <thead>\n",
       "    <tr style=\"text-align: right;\">\n",
       "      <th>userId</th>\n",
       "      <th>0</th>\n",
       "      <th>1</th>\n",
       "      <th>2</th>\n",
       "      <th>3</th>\n",
       "      <th>4</th>\n",
       "      <th>5</th>\n",
       "      <th>6</th>\n",
       "      <th>7</th>\n",
       "      <th>8</th>\n",
       "      <th>9</th>\n",
       "      <th>...</th>\n",
       "      <th>600</th>\n",
       "      <th>601</th>\n",
       "      <th>602</th>\n",
       "      <th>603</th>\n",
       "      <th>604</th>\n",
       "      <th>605</th>\n",
       "      <th>606</th>\n",
       "      <th>607</th>\n",
       "      <th>608</th>\n",
       "      <th>609</th>\n",
       "    </tr>\n",
       "    <tr>\n",
       "      <th>movieId</th>\n",
       "      <th></th>\n",
       "      <th></th>\n",
       "      <th></th>\n",
       "      <th></th>\n",
       "      <th></th>\n",
       "      <th></th>\n",
       "      <th></th>\n",
       "      <th></th>\n",
       "      <th></th>\n",
       "      <th></th>\n",
       "      <th></th>\n",
       "      <th></th>\n",
       "      <th></th>\n",
       "      <th></th>\n",
       "      <th></th>\n",
       "      <th></th>\n",
       "      <th></th>\n",
       "      <th></th>\n",
       "      <th></th>\n",
       "      <th></th>\n",
       "      <th></th>\n",
       "    </tr>\n",
       "  </thead>\n",
       "  <tbody>\n",
       "    <tr>\n",
       "      <th>0</th>\n",
       "      <td>4.0</td>\n",
       "      <td>NaN</td>\n",
       "      <td>NaN</td>\n",
       "      <td>NaN</td>\n",
       "      <td>4.0</td>\n",
       "      <td>NaN</td>\n",
       "      <td>4.5</td>\n",
       "      <td>NaN</td>\n",
       "      <td>NaN</td>\n",
       "      <td>NaN</td>\n",
       "      <td>...</td>\n",
       "      <td>4.0</td>\n",
       "      <td>NaN</td>\n",
       "      <td>4.0</td>\n",
       "      <td>3.0</td>\n",
       "      <td>4.0</td>\n",
       "      <td>2.5</td>\n",
       "      <td>4.0</td>\n",
       "      <td>2.5</td>\n",
       "      <td>3.0</td>\n",
       "      <td>5.0</td>\n",
       "    </tr>\n",
       "    <tr>\n",
       "      <th>1</th>\n",
       "      <td>NaN</td>\n",
       "      <td>NaN</td>\n",
       "      <td>NaN</td>\n",
       "      <td>NaN</td>\n",
       "      <td>NaN</td>\n",
       "      <td>4.0</td>\n",
       "      <td>NaN</td>\n",
       "      <td>4.0</td>\n",
       "      <td>NaN</td>\n",
       "      <td>NaN</td>\n",
       "      <td>...</td>\n",
       "      <td>NaN</td>\n",
       "      <td>4.0</td>\n",
       "      <td>NaN</td>\n",
       "      <td>5.0</td>\n",
       "      <td>3.5</td>\n",
       "      <td>NaN</td>\n",
       "      <td>NaN</td>\n",
       "      <td>2.0</td>\n",
       "      <td>NaN</td>\n",
       "      <td>NaN</td>\n",
       "    </tr>\n",
       "    <tr>\n",
       "      <th>2</th>\n",
       "      <td>4.0</td>\n",
       "      <td>NaN</td>\n",
       "      <td>NaN</td>\n",
       "      <td>NaN</td>\n",
       "      <td>NaN</td>\n",
       "      <td>5.0</td>\n",
       "      <td>NaN</td>\n",
       "      <td>NaN</td>\n",
       "      <td>NaN</td>\n",
       "      <td>NaN</td>\n",
       "      <td>...</td>\n",
       "      <td>NaN</td>\n",
       "      <td>NaN</td>\n",
       "      <td>NaN</td>\n",
       "      <td>NaN</td>\n",
       "      <td>NaN</td>\n",
       "      <td>NaN</td>\n",
       "      <td>NaN</td>\n",
       "      <td>2.0</td>\n",
       "      <td>NaN</td>\n",
       "      <td>NaN</td>\n",
       "    </tr>\n",
       "    <tr>\n",
       "      <th>3</th>\n",
       "      <td>NaN</td>\n",
       "      <td>NaN</td>\n",
       "      <td>NaN</td>\n",
       "      <td>NaN</td>\n",
       "      <td>NaN</td>\n",
       "      <td>3.0</td>\n",
       "      <td>NaN</td>\n",
       "      <td>NaN</td>\n",
       "      <td>NaN</td>\n",
       "      <td>NaN</td>\n",
       "      <td>...</td>\n",
       "      <td>NaN</td>\n",
       "      <td>NaN</td>\n",
       "      <td>NaN</td>\n",
       "      <td>NaN</td>\n",
       "      <td>NaN</td>\n",
       "      <td>NaN</td>\n",
       "      <td>NaN</td>\n",
       "      <td>NaN</td>\n",
       "      <td>NaN</td>\n",
       "      <td>NaN</td>\n",
       "    </tr>\n",
       "    <tr>\n",
       "      <th>4</th>\n",
       "      <td>NaN</td>\n",
       "      <td>NaN</td>\n",
       "      <td>NaN</td>\n",
       "      <td>NaN</td>\n",
       "      <td>NaN</td>\n",
       "      <td>5.0</td>\n",
       "      <td>NaN</td>\n",
       "      <td>NaN</td>\n",
       "      <td>NaN</td>\n",
       "      <td>NaN</td>\n",
       "      <td>...</td>\n",
       "      <td>NaN</td>\n",
       "      <td>NaN</td>\n",
       "      <td>NaN</td>\n",
       "      <td>3.0</td>\n",
       "      <td>NaN</td>\n",
       "      <td>NaN</td>\n",
       "      <td>NaN</td>\n",
       "      <td>NaN</td>\n",
       "      <td>NaN</td>\n",
       "      <td>NaN</td>\n",
       "    </tr>\n",
       "  </tbody>\n",
       "</table>\n",
       "<p>5 rows × 610 columns</p>\n",
       "</div>"
      ],
      "text/plain": [
       "userId   0    1    2    3    4    5    6    7    8    9    ...  600  601  602  \\\n",
       "movieId                                                    ...                  \n",
       "0        4.0  NaN  NaN  NaN  4.0  NaN  4.5  NaN  NaN  NaN  ...  4.0  NaN  4.0   \n",
       "1        NaN  NaN  NaN  NaN  NaN  4.0  NaN  4.0  NaN  NaN  ...  NaN  4.0  NaN   \n",
       "2        4.0  NaN  NaN  NaN  NaN  5.0  NaN  NaN  NaN  NaN  ...  NaN  NaN  NaN   \n",
       "3        NaN  NaN  NaN  NaN  NaN  3.0  NaN  NaN  NaN  NaN  ...  NaN  NaN  NaN   \n",
       "4        NaN  NaN  NaN  NaN  NaN  5.0  NaN  NaN  NaN  NaN  ...  NaN  NaN  NaN   \n",
       "\n",
       "userId   603  604  605  606  607  608  609  \n",
       "movieId                                     \n",
       "0        3.0  4.0  2.5  4.0  2.5  3.0  5.0  \n",
       "1        5.0  3.5  NaN  NaN  2.0  NaN  NaN  \n",
       "2        NaN  NaN  NaN  NaN  2.0  NaN  NaN  \n",
       "3        NaN  NaN  NaN  NaN  NaN  NaN  NaN  \n",
       "4        3.0  NaN  NaN  NaN  NaN  NaN  NaN  \n",
       "\n",
       "[5 rows x 610 columns]"
      ]
     },
     "execution_count": 92,
     "metadata": {},
     "output_type": "execute_result"
    }
   ],
   "source": [
    "user_movie_matrix = ratings.pivot_table(index=['movieId'],columns=['userId'],values='rating')\n",
    "user_movie_matrix .head()"
   ]
  },
  {
   "cell_type": "markdown",
   "id": "61678a98",
   "metadata": {},
   "source": [
    "We know the ratings are only in the range between 0.5-5, therefore we can treat the missing values as 0. This will not effect our Collaborative Filtering Process as the User Ratings Vectors will simply have no component in the the movie axis for a movie they have not rated yet. Because we will use the 5 most similar users to calculate the predicted rating in our baseline CF implementation, any movie which does not have _at least_ 5 ratings, will be removed from the user_movie matrix. This results in the user_movie_matrix consiting of 90 274 of the original 100 000 ratings."
   ]
  },
  {
   "cell_type": "code",
   "execution_count": 93,
   "id": "64c01dfa",
   "metadata": {},
   "outputs": [
    {
     "name": "stdout",
     "output_type": "stream",
     "text": [
      "Remaining ratings: 90274\n"
     ]
    }
   ],
   "source": [
    "user_movie_matrix = user_movie_matrix.dropna(thresh = 5, axis=0).fillna(0)\n",
    "user_movie_matrix = user_movie_matrix.reset_index(drop=True)\n",
    "print(\"Remaining ratings:\", (user_movie_matrix>0).sum().sum())"
   ]
  },
  {
   "cell_type": "markdown",
   "id": "88342cf0",
   "metadata": {},
   "source": [
    "Now we can calculate the similarity between all users using the Pearson Correlation Coefficient. The result is a square matrix of dimension $i \\times i$ where $i$ representes the number of users in the dataset. The value at a specific row $n$ and a specific column $m$ is the similarity between user $n$ and user $m$."
   ]
  },
  {
   "cell_type": "code",
   "execution_count": 94,
   "id": "8cb84c22",
   "metadata": {
    "scrolled": true
   },
   "outputs": [
    {
     "data": {
      "text/html": [
       "<div>\n",
       "<style scoped>\n",
       "    .dataframe tbody tr th:only-of-type {\n",
       "        vertical-align: middle;\n",
       "    }\n",
       "\n",
       "    .dataframe tbody tr th {\n",
       "        vertical-align: top;\n",
       "    }\n",
       "\n",
       "    .dataframe thead th {\n",
       "        text-align: right;\n",
       "    }\n",
       "</style>\n",
       "<table border=\"1\" class=\"dataframe\">\n",
       "  <thead>\n",
       "    <tr style=\"text-align: right;\">\n",
       "      <th>userId</th>\n",
       "      <th>0</th>\n",
       "      <th>1</th>\n",
       "      <th>2</th>\n",
       "      <th>3</th>\n",
       "      <th>4</th>\n",
       "      <th>5</th>\n",
       "      <th>6</th>\n",
       "      <th>7</th>\n",
       "      <th>8</th>\n",
       "      <th>9</th>\n",
       "      <th>...</th>\n",
       "      <th>600</th>\n",
       "      <th>601</th>\n",
       "      <th>602</th>\n",
       "      <th>603</th>\n",
       "      <th>604</th>\n",
       "      <th>605</th>\n",
       "      <th>606</th>\n",
       "      <th>607</th>\n",
       "      <th>608</th>\n",
       "      <th>609</th>\n",
       "    </tr>\n",
       "    <tr>\n",
       "      <th>userId</th>\n",
       "      <th></th>\n",
       "      <th></th>\n",
       "      <th></th>\n",
       "      <th></th>\n",
       "      <th></th>\n",
       "      <th></th>\n",
       "      <th></th>\n",
       "      <th></th>\n",
       "      <th></th>\n",
       "      <th></th>\n",
       "      <th></th>\n",
       "      <th></th>\n",
       "      <th></th>\n",
       "      <th></th>\n",
       "      <th></th>\n",
       "      <th></th>\n",
       "      <th></th>\n",
       "      <th></th>\n",
       "      <th></th>\n",
       "      <th></th>\n",
       "      <th></th>\n",
       "    </tr>\n",
       "  </thead>\n",
       "  <tbody>\n",
       "    <tr>\n",
       "      <th>0</th>\n",
       "      <td>1.000000</td>\n",
       "      <td>0.007998</td>\n",
       "      <td>0.091575</td>\n",
       "      <td>0.160236</td>\n",
       "      <td>0.108523</td>\n",
       "      <td>0.074876</td>\n",
       "      <td>0.120823</td>\n",
       "      <td>0.115943</td>\n",
       "      <td>0.051094</td>\n",
       "      <td>-0.025040</td>\n",
       "      <td>...</td>\n",
       "      <td>0.045901</td>\n",
       "      <td>0.127084</td>\n",
       "      <td>0.176396</td>\n",
       "      <td>0.037373</td>\n",
       "      <td>0.118746</td>\n",
       "      <td>0.101322</td>\n",
       "      <td>0.235721</td>\n",
       "      <td>0.218087</td>\n",
       "      <td>0.083673</td>\n",
       "      <td>0.056725</td>\n",
       "    </tr>\n",
       "    <tr>\n",
       "      <th>1</th>\n",
       "      <td>0.007998</td>\n",
       "      <td>1.000000</td>\n",
       "      <td>-0.005002</td>\n",
       "      <td>-0.014913</td>\n",
       "      <td>0.008247</td>\n",
       "      <td>0.004834</td>\n",
       "      <td>0.012917</td>\n",
       "      <td>0.019040</td>\n",
       "      <td>-0.007740</td>\n",
       "      <td>0.060926</td>\n",
       "      <td>...</td>\n",
       "      <td>0.204013</td>\n",
       "      <td>0.001791</td>\n",
       "      <td>-0.023487</td>\n",
       "      <td>-0.013354</td>\n",
       "      <td>-0.019310</td>\n",
       "      <td>-0.003626</td>\n",
       "      <td>-0.004911</td>\n",
       "      <td>0.011924</td>\n",
       "      <td>0.023437</td>\n",
       "      <td>0.092336</td>\n",
       "    </tr>\n",
       "    <tr>\n",
       "      <th>2</th>\n",
       "      <td>0.091575</td>\n",
       "      <td>-0.005002</td>\n",
       "      <td>1.000000</td>\n",
       "      <td>-0.009068</td>\n",
       "      <td>0.002348</td>\n",
       "      <td>-0.009093</td>\n",
       "      <td>-0.011268</td>\n",
       "      <td>0.002003</td>\n",
       "      <td>-0.005357</td>\n",
       "      <td>-0.010266</td>\n",
       "      <td>...</td>\n",
       "      <td>-0.000672</td>\n",
       "      <td>-0.002566</td>\n",
       "      <td>0.026964</td>\n",
       "      <td>-0.009243</td>\n",
       "      <td>0.006704</td>\n",
       "      <td>-0.000095</td>\n",
       "      <td>0.021073</td>\n",
       "      <td>0.011587</td>\n",
       "      <td>-0.005488</td>\n",
       "      <td>0.018377</td>\n",
       "    </tr>\n",
       "    <tr>\n",
       "      <th>3</th>\n",
       "      <td>0.160236</td>\n",
       "      <td>-0.014913</td>\n",
       "      <td>-0.009068</td>\n",
       "      <td>1.000000</td>\n",
       "      <td>0.114428</td>\n",
       "      <td>0.040390</td>\n",
       "      <td>0.082821</td>\n",
       "      <td>0.043028</td>\n",
       "      <td>-0.006971</td>\n",
       "      <td>-0.002958</td>\n",
       "      <td>...</td>\n",
       "      <td>0.058720</td>\n",
       "      <td>0.097395</td>\n",
       "      <td>0.302086</td>\n",
       "      <td>0.024029</td>\n",
       "      <td>0.048484</td>\n",
       "      <td>0.166557</td>\n",
       "      <td>0.096515</td>\n",
       "      <td>0.069953</td>\n",
       "      <td>0.016911</td>\n",
       "      <td>0.024738</td>\n",
       "    </tr>\n",
       "    <tr>\n",
       "      <th>4</th>\n",
       "      <td>0.108523</td>\n",
       "      <td>0.008247</td>\n",
       "      <td>0.002348</td>\n",
       "      <td>0.114428</td>\n",
       "      <td>1.000000</td>\n",
       "      <td>0.298575</td>\n",
       "      <td>0.090887</td>\n",
       "      <td>0.422368</td>\n",
       "      <td>-0.009707</td>\n",
       "      <td>0.014774</td>\n",
       "      <td>...</td>\n",
       "      <td>0.053589</td>\n",
       "      <td>0.408451</td>\n",
       "      <td>0.091260</td>\n",
       "      <td>0.255308</td>\n",
       "      <td>0.140178</td>\n",
       "      <td>0.089312</td>\n",
       "      <td>0.135896</td>\n",
       "      <td>0.101247</td>\n",
       "      <td>0.278591</td>\n",
       "      <td>0.020199</td>\n",
       "    </tr>\n",
       "  </tbody>\n",
       "</table>\n",
       "<p>5 rows × 610 columns</p>\n",
       "</div>"
      ],
      "text/plain": [
       "userId       0         1         2         3         4         5         6    \\\n",
       "userId                                                                         \n",
       "0       1.000000  0.007998  0.091575  0.160236  0.108523  0.074876  0.120823   \n",
       "1       0.007998  1.000000 -0.005002 -0.014913  0.008247  0.004834  0.012917   \n",
       "2       0.091575 -0.005002  1.000000 -0.009068  0.002348 -0.009093 -0.011268   \n",
       "3       0.160236 -0.014913 -0.009068  1.000000  0.114428  0.040390  0.082821   \n",
       "4       0.108523  0.008247  0.002348  0.114428  1.000000  0.298575  0.090887   \n",
       "\n",
       "userId       7         8         9    ...       600       601       602  \\\n",
       "userId                                ...                                 \n",
       "0       0.115943  0.051094 -0.025040  ...  0.045901  0.127084  0.176396   \n",
       "1       0.019040 -0.007740  0.060926  ...  0.204013  0.001791 -0.023487   \n",
       "2       0.002003 -0.005357 -0.010266  ... -0.000672 -0.002566  0.026964   \n",
       "3       0.043028 -0.006971 -0.002958  ...  0.058720  0.097395  0.302086   \n",
       "4       0.422368 -0.009707  0.014774  ...  0.053589  0.408451  0.091260   \n",
       "\n",
       "userId       603       604       605       606       607       608       609  \n",
       "userId                                                                        \n",
       "0       0.037373  0.118746  0.101322  0.235721  0.218087  0.083673  0.056725  \n",
       "1      -0.013354 -0.019310 -0.003626 -0.004911  0.011924  0.023437  0.092336  \n",
       "2      -0.009243  0.006704 -0.000095  0.021073  0.011587 -0.005488  0.018377  \n",
       "3       0.024029  0.048484  0.166557  0.096515  0.069953  0.016911  0.024738  \n",
       "4       0.255308  0.140178  0.089312  0.135896  0.101247  0.278591  0.020199  \n",
       "\n",
       "[5 rows x 610 columns]"
      ]
     },
     "execution_count": 94,
     "metadata": {},
     "output_type": "execute_result"
    }
   ],
   "source": [
    "user_similarity  = user_movie_matrix.corr(method=\"pearson\")\n",
    "user_similarity.head()"
   ]
  },
  {
   "cell_type": "markdown",
   "id": "e34125e5",
   "metadata": {},
   "source": [
    "Next we will incorporate the Collaborative Filtering process. For a specific user, we iterate over each movie in the dataset. For each movie, we find the 5 users who are most similar to the active user and have rated the movie. We then calculate the predicted rating using the weighted sum of the ratings these 5 users gave the movie. "
   ]
  },
  {
   "cell_type": "code",
   "execution_count": 95,
   "id": "a5523f82",
   "metadata": {
    "scrolled": false
   },
   "outputs": [
    {
     "name": "stdout",
     "output_type": "stream",
     "text": [
      "Calculating the predicted ratings for each of the 610 users:\n",
      ".................................................................................................................................................................................................................................................................................................................................................................................................................................................................................................................................................................................................................................."
     ]
    },
    {
     "data": {
      "text/html": [
       "<div>\n",
       "<style scoped>\n",
       "    .dataframe tbody tr th:only-of-type {\n",
       "        vertical-align: middle;\n",
       "    }\n",
       "\n",
       "    .dataframe tbody tr th {\n",
       "        vertical-align: top;\n",
       "    }\n",
       "\n",
       "    .dataframe thead th {\n",
       "        text-align: right;\n",
       "    }\n",
       "</style>\n",
       "<table border=\"1\" class=\"dataframe\">\n",
       "  <thead>\n",
       "    <tr style=\"text-align: right;\">\n",
       "      <th></th>\n",
       "      <th>0</th>\n",
       "      <th>1</th>\n",
       "      <th>2</th>\n",
       "      <th>3</th>\n",
       "      <th>4</th>\n",
       "      <th>5</th>\n",
       "      <th>6</th>\n",
       "      <th>7</th>\n",
       "      <th>8</th>\n",
       "      <th>9</th>\n",
       "      <th>...</th>\n",
       "      <th>600</th>\n",
       "      <th>601</th>\n",
       "      <th>602</th>\n",
       "      <th>603</th>\n",
       "      <th>604</th>\n",
       "      <th>605</th>\n",
       "      <th>606</th>\n",
       "      <th>607</th>\n",
       "      <th>608</th>\n",
       "      <th>609</th>\n",
       "    </tr>\n",
       "  </thead>\n",
       "  <tbody>\n",
       "    <tr>\n",
       "      <th>0</th>\n",
       "      <td>3.758363</td>\n",
       "      <td>3.679904</td>\n",
       "      <td>4.000000</td>\n",
       "      <td>3.979508</td>\n",
       "      <td>4.400076</td>\n",
       "      <td>4.798736</td>\n",
       "      <td>4.295186</td>\n",
       "      <td>4.407581</td>\n",
       "      <td>3.396519</td>\n",
       "      <td>4.122348</td>\n",
       "      <td>...</td>\n",
       "      <td>4.158324</td>\n",
       "      <td>4.170451</td>\n",
       "      <td>4.201508</td>\n",
       "      <td>4.621577</td>\n",
       "      <td>3.987061</td>\n",
       "      <td>3.185482</td>\n",
       "      <td>4.204573</td>\n",
       "      <td>3.698741</td>\n",
       "      <td>3.764459</td>\n",
       "      <td>3.379196</td>\n",
       "    </tr>\n",
       "    <tr>\n",
       "      <th>1</th>\n",
       "      <td>2.302897</td>\n",
       "      <td>3.211671</td>\n",
       "      <td>3.974819</td>\n",
       "      <td>2.853281</td>\n",
       "      <td>3.592472</td>\n",
       "      <td>3.976968</td>\n",
       "      <td>2.503688</td>\n",
       "      <td>3.205857</td>\n",
       "      <td>3.798053</td>\n",
       "      <td>3.494319</td>\n",
       "      <td>...</td>\n",
       "      <td>3.192288</td>\n",
       "      <td>3.201373</td>\n",
       "      <td>2.841041</td>\n",
       "      <td>3.810151</td>\n",
       "      <td>3.606102</td>\n",
       "      <td>2.877110</td>\n",
       "      <td>3.118062</td>\n",
       "      <td>3.000824</td>\n",
       "      <td>3.562713</td>\n",
       "      <td>3.389521</td>\n",
       "    </tr>\n",
       "    <tr>\n",
       "      <th>2</th>\n",
       "      <td>3.189755</td>\n",
       "      <td>2.593058</td>\n",
       "      <td>2.977579</td>\n",
       "      <td>3.494658</td>\n",
       "      <td>3.519972</td>\n",
       "      <td>3.586491</td>\n",
       "      <td>2.721841</td>\n",
       "      <td>3.588523</td>\n",
       "      <td>3.410629</td>\n",
       "      <td>2.854649</td>\n",
       "      <td>...</td>\n",
       "      <td>2.964224</td>\n",
       "      <td>3.565991</td>\n",
       "      <td>3.591724</td>\n",
       "      <td>3.996979</td>\n",
       "      <td>3.216542</td>\n",
       "      <td>3.378457</td>\n",
       "      <td>2.805391</td>\n",
       "      <td>2.901861</td>\n",
       "      <td>3.754683</td>\n",
       "      <td>2.847746</td>\n",
       "    </tr>\n",
       "    <tr>\n",
       "      <th>3</th>\n",
       "      <td>2.744909</td>\n",
       "      <td>3.221511</td>\n",
       "      <td>-9.044633</td>\n",
       "      <td>1.745796</td>\n",
       "      <td>2.579108</td>\n",
       "      <td>2.422217</td>\n",
       "      <td>2.464053</td>\n",
       "      <td>2.715816</td>\n",
       "      <td>2.684024</td>\n",
       "      <td>1.095205</td>\n",
       "      <td>...</td>\n",
       "      <td>2.712049</td>\n",
       "      <td>2.659713</td>\n",
       "      <td>1.902718</td>\n",
       "      <td>2.355235</td>\n",
       "      <td>2.374426</td>\n",
       "      <td>2.632011</td>\n",
       "      <td>2.655079</td>\n",
       "      <td>2.686522</td>\n",
       "      <td>2.806181</td>\n",
       "      <td>1.597168</td>\n",
       "    </tr>\n",
       "    <tr>\n",
       "      <th>4</th>\n",
       "      <td>2.304805</td>\n",
       "      <td>2.655142</td>\n",
       "      <td>2.912732</td>\n",
       "      <td>2.538424</td>\n",
       "      <td>3.208726</td>\n",
       "      <td>3.580723</td>\n",
       "      <td>2.487629</td>\n",
       "      <td>3.000000</td>\n",
       "      <td>3.402779</td>\n",
       "      <td>2.476878</td>\n",
       "      <td>...</td>\n",
       "      <td>2.207504</td>\n",
       "      <td>3.202860</td>\n",
       "      <td>1.862195</td>\n",
       "      <td>3.759428</td>\n",
       "      <td>3.212523</td>\n",
       "      <td>2.527114</td>\n",
       "      <td>2.785295</td>\n",
       "      <td>2.670250</td>\n",
       "      <td>3.206429</td>\n",
       "      <td>2.681607</td>\n",
       "    </tr>\n",
       "  </tbody>\n",
       "</table>\n",
       "<p>5 rows × 610 columns</p>\n",
       "</div>"
      ],
      "text/plain": [
       "        0         1         2         3         4         5         6    \\\n",
       "0  3.758363  3.679904  4.000000  3.979508  4.400076  4.798736  4.295186   \n",
       "1  2.302897  3.211671  3.974819  2.853281  3.592472  3.976968  2.503688   \n",
       "2  3.189755  2.593058  2.977579  3.494658  3.519972  3.586491  2.721841   \n",
       "3  2.744909  3.221511 -9.044633  1.745796  2.579108  2.422217  2.464053   \n",
       "4  2.304805  2.655142  2.912732  2.538424  3.208726  3.580723  2.487629   \n",
       "\n",
       "        7         8         9    ...       600       601       602       603  \\\n",
       "0  4.407581  3.396519  4.122348  ...  4.158324  4.170451  4.201508  4.621577   \n",
       "1  3.205857  3.798053  3.494319  ...  3.192288  3.201373  2.841041  3.810151   \n",
       "2  3.588523  3.410629  2.854649  ...  2.964224  3.565991  3.591724  3.996979   \n",
       "3  2.715816  2.684024  1.095205  ...  2.712049  2.659713  1.902718  2.355235   \n",
       "4  3.000000  3.402779  2.476878  ...  2.207504  3.202860  1.862195  3.759428   \n",
       "\n",
       "        604       605       606       607       608       609  \n",
       "0  3.987061  3.185482  4.204573  3.698741  3.764459  3.379196  \n",
       "1  3.606102  2.877110  3.118062  3.000824  3.562713  3.389521  \n",
       "2  3.216542  3.378457  2.805391  2.901861  3.754683  2.847746  \n",
       "3  2.374426  2.632011  2.655079  2.686522  2.806181  1.597168  \n",
       "4  3.212523  2.527114  2.785295  2.670250  3.206429  2.681607  \n",
       "\n",
       "[5 rows x 610 columns]"
      ]
     },
     "execution_count": 95,
     "metadata": {},
     "output_type": "execute_result"
    }
   ],
   "source": [
    "# Dataframe to store the predictions \n",
    "predictions = pd.DataFrame()\n",
    "predictions.rename_axis(\"movieId\")\n",
    "\n",
    "print(\"Calculating the predicted ratings for each of the 610 users:\")\n",
    "\n",
    "# Iterate over each user in the user_movie matrix\n",
    "for user in user_movie_matrix.columns:\n",
    "    # List to store the predicted rating of each movie for the current user\n",
    "    preds = [] \n",
    "    # Print statement for debugging\n",
    "    print('.', end=\"\")\n",
    "\n",
    "    # Iterate over each movie in the user_movie matrix \n",
    "    for movie in user_movie_matrix.index:\n",
    "        # Store the entire row of rating values for the given movie \n",
    "        movie_ratings = user_movie_matrix.loc[movie,:]\n",
    "        # Select only the ratings which are greater than zero (a user has actually rated the movie)\n",
    "        rated_movie = movie_ratings[movie_ratings>0]\n",
    "        # Select the top 5 most similar users who have rated the movie \n",
    "        similar_users  = user_similarity[user][rated_movie.index].sort_values(ascending = False)[1:6]\n",
    "        \n",
    "        # Calculate the sum of the most similar users similarity measures (weights) \n",
    "        weights = similar_users.sum()\n",
    "\n",
    "        # Calculated the weighted sum of the similar users ratings to predict \n",
    "        # what the currrent user would rate the movie \n",
    "        weighted_sum = (rated_movie[similar_users.index]* similar_users).sum()\n",
    "        \n",
    "        # Store the predicted rating for this movie \n",
    "        preds.append(weighted_sum/weights)\n",
    "    \n",
    "    # Add the list of the predicted ratings of the active user for each movie \n",
    "    # to the dataframe which stores the predictions \n",
    "    predictions[user]= preds\n",
    "\n",
    "# Display the final dataframe of predictions\n",
    "predictions.head()"
   ]
  },
  {
   "cell_type": "markdown",
   "id": "aa5b97b9",
   "metadata": {},
   "source": [
    "Next we determine our evaluation metric, the Root Mean Squared Error, for the baseline CF approach using the difference between the predicted ratings and the actual ratings. "
   ]
  },
  {
   "cell_type": "code",
   "execution_count": 96,
   "id": "c1c5fef9",
   "metadata": {
    "scrolled": true
   },
   "outputs": [
    {
     "name": "stdout",
     "output_type": "stream",
     "text": [
      "MSE: 1.0412980120862927\n",
      "RMSE: 1.0204401070549376\n"
     ]
    }
   ],
   "source": [
    "# List to store the individual mean squared errors for each user \n",
    "mean_squared_errors = [] \n",
    "\n",
    "# Iterate through each user and find the difference between the predicted ratings for movies that user \n",
    "# has rated, and the actual rating that user gave. \n",
    "for user in user_movie_matrix.columns:\n",
    "    # Get list of movies the user has actually rated \n",
    "    got_rating = user_movie_matrix[user][user_movie_matrix[user]>0]\n",
    "    # Get a list of the predited ratings for these movies \n",
    "    pred_rating = predictions[user][got_rating.index]\n",
    "    # Find the difference between the actual rating and the predicted rating\n",
    "    error = (got_rating - pred_rating)\n",
    "    # Square this difference \n",
    "    squared_error = np.square(error)\n",
    "    # Find the average squared differences for this user \n",
    "    mean_squared_error = squared_error.sum()/ len(got_rating)\n",
    "    # Add the mean squared error for this user to the list of mean squared errors \n",
    "    mean_squared_errors.append(mean_squared_error)\n",
    "    \n",
    "# Calculating the mean of the mean squared error for every user yields the Mean Squared Error \n",
    "# for the baseline CF approach, taking the square root of this value yields the\n",
    "# Root Mean Square Error for this approach \n",
    "mse_CF  = sum(mean_squared_errors)/len(mean_squared_errors)\n",
    "rmse_CF = np.sqrt(mse_CF)\n",
    "print(\"MSE:\", mse_CF)\n",
    "print(\"RMSE:\", rmse_CF)"
   ]
  },
  {
   "cell_type": "markdown",
   "id": "2fa6ea9a",
   "metadata": {},
   "source": [
    "## 2. Neural Colloborative Filtering (NCF)"
   ]
  },
  {
   "cell_type": "code",
   "execution_count": 5,
   "id": "71ca6c56",
   "metadata": {},
   "outputs": [],
   "source": [
    "#creating the dataset class according to required pytorch format\n",
    "class MovieLensDataset:\n",
    "    def __init__(self,userIds,movieIds,ratings):\n",
    "        self.userIds = userIds\n",
    "        self.movieIds = movieIds\n",
    "        self.ratings = ratings\n",
    "    #required for pytorch    \n",
    "    def __len__(self):\n",
    "        return len(self.userIds)\n",
    "    \n",
    "    #required for pytorch\n",
    "    def __getitem__(self,item):\n",
    "    #converts values into pytorch tensors and returns\n",
    "        return [torch.tensor(self.userIds[item],dtype=torch.long),\n",
    "                torch.tensor(self.movieIds[item],dtype=torch.long),\n",
    "                torch.tensor(self.ratings[item],dtype=torch.float)]"
   ]
  },
  {
   "cell_type": "code",
   "execution_count": 6,
   "id": "166e3c6d",
   "metadata": {},
   "outputs": [],
   "source": [
    "#define the neural network model\n",
    "#made to be customisable with layers being an nn.sequential variable\n",
    "#which contains the architecture for the network\n",
    "class RecNet(nn.Module):\n",
    "    def __init__(self, num_users, num_movies, layers):\n",
    "        super().__init__()\n",
    "        \n",
    "        \n",
    "        #movie and user embeddings when combined make up the size of \n",
    "        #the first hidden layer given in layers\n",
    "        num_embeds = int(layers[0].in_features/2)\n",
    "\n",
    "        #embeddings \n",
    "        self.embed_movie = nn.Embedding(num_movies, num_embeds)\n",
    "        self.embed_user = nn.Embedding(num_users, num_embeds) \n",
    "        \n",
    "        #initialise the rest of the netwrok using layers (nn.sequential)\n",
    "        self.layers = layers\n",
    "    \n",
    "    #forword propogation of the network\n",
    "    def forward(self,userIds,movieIds,ratings = None):\n",
    "        \n",
    "        movie_embeds = self.embed_movie(movieIds)\n",
    "        user_embeds = self.embed_user(userIds)\n",
    "        \n",
    "        #combine embedding vectors to be fed to multi-layer perceptron\n",
    "        out = torch.cat([user_embeds,movie_embeds],dim=1)\n",
    "        \n",
    "        #recieve final output from multi-layer perceptron\n",
    "        out = self.layers(out)\n",
    "        \n",
    "        #calculate Root mean squared error\n",
    "        loss = torch.sqrt(nn.MSELoss()(out,ratings.view(-1,1)))\n",
    "        \n",
    "        return out,loss\n",
    "        "
   ]
  },
  {
   "cell_type": "code",
   "execution_count": 7,
   "id": "699e0b26",
   "metadata": {},
   "outputs": [],
   "source": [
    "#train network for a specified number of epochs\n",
    "def train_network(epochs, model, train_loader, test_loader, calc_test = False):\n",
    "    #store train and test losses each batch for plots\n",
    "    train_losses = []\n",
    "    test_losses = []\n",
    "    \n",
    "    #loop for the number of epochs\n",
    "    for epoch in range(epochs):\n",
    "        \n",
    "        train_loss = 0\n",
    "        test_loss = 0\n",
    "        \n",
    "        #setup model for training\n",
    "        model.train()\n",
    "        \n",
    "        #loop through batches (recieves users, movies, ratings for each batch)\n",
    "        for users, movies, ratings in train_loader:\n",
    "            \n",
    "            #reset the gradients accumulated for backprop from last batch\n",
    "            model.zero_grad()\n",
    "            \n",
    "            #forward prop\n",
    "            output,loss = model(users.cuda(),movies.cuda(),ratings.cuda())\n",
    "            \n",
    "            #backprop\n",
    "            loss.backward()\n",
    "            \n",
    "            #update weights\n",
    "            optimizer.step()\n",
    "            \n",
    "            #store train losses\n",
    "            train_losses.append(loss.item())\n",
    "            \n",
    "            #store test losses\n",
    "            if calc_test: \n",
    "                test_losses.append(overall_loss(model, test_loader))\n",
    "                print('.',end=\"\")\n",
    "    \n",
    "    #append final loss\n",
    "    train_losses.append(overall_loss(model, train_loader))\n",
    "    test_losses.append(overall_loss(model, test_loader))\n",
    "\n",
    "    return train_losses, test_losses"
   ]
  },
  {
   "cell_type": "code",
   "execution_count": 8,
   "id": "c603bdf4",
   "metadata": {},
   "outputs": [],
   "source": [
    "#finds the root mean squared error accross a whole dataset\n",
    "def overall_loss(model, data_loader):\n",
    "    accumulated_loss = 0\n",
    "    \n",
    "    #set up model for evaluation\n",
    "    model.eval()\n",
    "    \n",
    "    #don't calculate gradient for backprop\n",
    "    with torch.no_grad():\n",
    "            #loop thorugh batches\n",
    "            for users, movies, ratings in data_loader:\n",
    "                _,loss = model(users.cuda(),movies.cuda(),ratings.cuda())\n",
    "                accumulated_loss += loss.item()\n",
    "    overall_loss = accumulated_loss/len(data_loader)\n",
    "    return overall_loss"
   ]
  },
  {
   "cell_type": "code",
   "execution_count": 9,
   "id": "aa847bf1",
   "metadata": {},
   "outputs": [],
   "source": [
    "#create objects of each dataset\n",
    "training_set = MovieLensDataset(train.userId.values,train.movieId.values,train.rating.values)\n",
    "    \n",
    "test_set = MovieLensDataset(test.userId.values,test.movieId.values,test.rating.values)\n",
    "\n",
    "cv_set = MovieLensDataset(cv.userId.values,cv.movieId.values,cv.rating.values)"
   ]
  },
  {
   "cell_type": "code",
   "execution_count": 10,
   "id": "a67d2c2b",
   "metadata": {},
   "outputs": [],
   "source": [
    "#create data loaders that pytorch uses to loop through batches\n",
    "batch_size= 1024\n",
    "\n",
    "#shuffle= false since dataset is shuffled previousely\n",
    "train_loader_1024 = torch.utils.data.DataLoader(dataset = training_set, batch_size = batch_size, shuffle=True)\n",
    "test_loader_1024 = torch.utils.data.DataLoader(dataset = test_set, batch_size = batch_size, shuffle=True)\n",
    "cv_loader_1024 = torch.utils.data.DataLoader(dataset = cv_set, batch_size = batch_size, shuffle=True)"
   ]
  },
  {
   "cell_type": "markdown",
   "id": "17e86f3b",
   "metadata": {},
   "source": [
    "## Baseline NCF Model"
   ]
  },
  {
   "cell_type": "code",
   "execution_count": 52,
   "id": "f8635814",
   "metadata": {},
   "outputs": [],
   "source": [
    "#instantiate sequential to specify nn architecture to create the model\n",
    "layers = nn.Sequential(\n",
    "        nn.Linear(32,32),  \n",
    "        nn.ReLU(),\n",
    "        nn.Linear(32,1),\n",
    "        )\n",
    "\n",
    "#instantiate model and put it on the gpu (.cuda())\n",
    "model_1 = RecNet(num_users,num_movies,layers).cuda()\n",
    "\n",
    "#instantiate the optimiser that pytorch will use\n",
    "optimizer = optim.Adam(model_1.parameters(), lr=0.1)"
   ]
  },
  {
   "cell_type": "code",
   "execution_count": 53,
   "id": "cece8786",
   "metadata": {},
   "outputs": [
    {
     "name": "stdout",
     "output_type": "stream",
     "text": [
      "............................................................................................................................................................................................................................................."
     ]
    }
   ],
   "source": [
    "#train the network\n",
    "baseline_train_losses, baseline_test_losses= train_network(3, model_1, train_loader_1024, test_loader_1024,True)"
   ]
  },
  {
   "cell_type": "code",
   "execution_count": 98,
   "id": "d4f43cb9",
   "metadata": {},
   "outputs": [
    {
     "name": "stdout",
     "output_type": "stream",
     "text": [
      "train error = 0.8007883829406545, test error = 0.9396374523639679\n"
     ]
    },
    {
     "data": {
      "image/png": "[encoded data removed]",
      "text/plain": [
       "<Figure size 432x288 with 1 Axes>"
      ]
     },
     "metadata": {
      "needs_background": "light"
     },
     "output_type": "display_data"
    }
   ],
   "source": [
    "plt.plot(baseline_train_losses, label = \"Neural CF\")\n",
    "plt.axhline(rmse_CF,c='red',label = \"Baseline CF\")\n",
    "plt.xlabel('Batches')\n",
    "plt.ylabel('RMSE')\n",
    "plt.legend()\n",
    "print(f\"train error = {baseline_train_losses[-1]}, test error = {baseline_test_losses[-1]}\")\n",
    "plt.savefig('rmse1.png')"
   ]
  },
  {
   "cell_type": "markdown",
   "id": "a8d8bbb4",
   "metadata": {},
   "source": [
    "## Comparing architectures"
   ]
  },
  {
   "cell_type": "markdown",
   "id": "21726303",
   "metadata": {},
   "source": [
    "This section contains a comparison between different neural network architextures with the number of layers as well as the number of units within each layer being varied."
   ]
  },
  {
   "cell_type": "code",
   "execution_count": 55,
   "id": "15999303",
   "metadata": {},
   "outputs": [],
   "source": [
    "layers = nn.Sequential(\n",
    "        nn.Linear(32,32),  \n",
    "        nn.ReLU(),\n",
    "        nn.Linear(32,1),\n",
    "        )\n",
    "model_1 = RecNet(num_users,num_movies,layers).cuda()\n",
    "optimizer = optim.Adam(model_1.parameters(), lr=0.1)"
   ]
  },
  {
   "cell_type": "code",
   "execution_count": 56,
   "id": "76f048bf",
   "metadata": {},
   "outputs": [
    {
     "name": "stdout",
     "output_type": "stream",
     "text": [
      "............................................................................................................................................................................................................................................."
     ]
    }
   ],
   "source": [
    "train_losses_1, test_losses_1 = train_network(3, model_1, train_loader_1024, cv_loader_1024,True)"
   ]
  },
  {
   "cell_type": "code",
   "execution_count": 57,
   "id": "5d477b18",
   "metadata": {},
   "outputs": [],
   "source": [
    "layers = nn.Sequential(\n",
    "        nn.Linear(64,32),  \n",
    "        nn.ReLU(),\n",
    "        nn.Linear(32,16),\n",
    "        nn.ReLU(),\n",
    "        nn.Linear(16,1)\n",
    "        )\n",
    "model_2 = RecNet(num_users,num_movies,layers).cuda()\n",
    "optimizer = optim.Adam(model_2.parameters(), lr=0.1)"
   ]
  },
  {
   "cell_type": "code",
   "execution_count": 58,
   "id": "25b2d010",
   "metadata": {},
   "outputs": [
    {
     "name": "stdout",
     "output_type": "stream",
     "text": [
      "............................................................................................................................................................................................................................................."
     ]
    }
   ],
   "source": [
    "train_losses_2, test_losses_2 = train_network(3, model_2, train_loader_1024, cv_loader_1024,True)"
   ]
  },
  {
   "cell_type": "code",
   "execution_count": 59,
   "id": "eb0e6784",
   "metadata": {},
   "outputs": [],
   "source": [
    "layers = nn.Sequential(\n",
    "        nn.Linear(256,128),\n",
    "        nn.ReLU(),\n",
    "        nn.Linear(128,1),\n",
    "        )\n",
    "model_3 = RecNet(num_users,num_movies,layers).cuda()\n",
    "optimizer = optim.Adam(model_3.parameters(), lr=0.1)"
   ]
  },
  {
   "cell_type": "code",
   "execution_count": 60,
   "id": "47c9e8fd",
   "metadata": {},
   "outputs": [
    {
     "name": "stdout",
     "output_type": "stream",
     "text": [
      "............................................................................................................................................................................................................................................."
     ]
    }
   ],
   "source": [
    "train_losses_3, test_losses_3 = train_network(3, model_3, train_loader_1024, cv_loader_1024,True)"
   ]
  },
  {
   "cell_type": "code",
   "execution_count": 61,
   "id": "b837011b",
   "metadata": {},
   "outputs": [],
   "source": [
    "layers = nn.Sequential(\n",
    "        nn.Linear(64,64),\n",
    "          nn.ReLU(),\n",
    "          nn.Linear(64,64),\n",
    "          nn.ReLU(),\n",
    "          nn.Linear(64,64),\n",
    "          nn.ReLU(),\n",
    "          nn.Linear(64,1),\n",
    "        )\n",
    "model_4 = RecNet(num_users,num_movies,layers).cuda()\n",
    "optimizer = optim.Adam(model_4.parameters(), lr=0.1)"
   ]
  },
  {
   "cell_type": "code",
   "execution_count": 62,
   "id": "af8d6dce",
   "metadata": {},
   "outputs": [
    {
     "name": "stdout",
     "output_type": "stream",
     "text": [
      "............................................................................................................................................................................................................................................."
     ]
    }
   ],
   "source": [
    "train_losses_4, test_losses_4 = train_network(3, model_4, train_loader_1024, cv_loader_1024, True)"
   ]
  },
  {
   "cell_type": "code",
   "execution_count": 63,
   "id": "bf87f78e",
   "metadata": {
    "scrolled": false
   },
   "outputs": [
    {
     "data": {
      "image/png": "[encoded data removed]",
      "text/plain": [
       "<Figure size 432x288 with 1 Axes>"
      ]
     },
     "metadata": {
      "needs_background": "light"
     },
     "output_type": "display_data"
    },
    {
     "name": "stdout",
     "output_type": "stream",
     "text": [
      "final costs:\n",
      "32x32x1: train = 0.7871228977094723, test = 0.907213443517685\n",
      "64x32x16x1: train = 0.7640224770654606, test = 0.9060243546962738\n",
      "256x128x1: train = 0.808436575569684, test = 0.9200530588626862\n",
      "64x64x64x1: train = 1.0409186452249937, test = 1.0464345455169677\n"
     ]
    }
   ],
   "source": [
    "#plot decreasing errors for all proposed architectures\n",
    "plt.plot(test_losses_1[15:100], label='32x32x1')\n",
    "plt.plot(test_losses_2[15:100], label='64x32x16x1')\n",
    "plt.plot(test_losses_3[15:100], label='256x128x1')\n",
    "plt.plot(test_losses_4[15:100], label='64x64x64x64x1')\n",
    "plt.xlabel('Batches')\n",
    "plt.ylabel('RMSE')\n",
    "plt.legend(loc='best')\n",
    "plt.show()\n",
    "print('final costs:')\n",
    "print(f'32x32x1: train = {train_losses_1[-1]}, test = {test_losses_1[-1]}')\n",
    "print(f'64x32x16x1: train = {train_losses_2[-1]}, test = {test_losses_2[-1]}')\n",
    "print(f'256x128x1: train = {train_losses_3[-1]}, test = {test_losses_3[-1]}')\n",
    "print(f'64x64x64x1: train = {train_losses_4[-1]}, test = {test_losses_4[-1]}')"
   ]
  },
  {
   "cell_type": "markdown",
   "id": "219c8d25",
   "metadata": {},
   "source": [
    "It can be seen that the best performing architecture on both the train and test set is a telescoping architecture in which there is an embedding layer of 64 units which is fed into a subsequent Multi-Layer Perceptron of the architecture 64x32x16x1. "
   ]
  },
  {
   "cell_type": "markdown",
   "id": "fff1090f",
   "metadata": {},
   "source": [
    "### Hyperparameter Tuning"
   ]
  },
  {
   "cell_type": "markdown",
   "id": "416c7b20",
   "metadata": {},
   "source": [
    "This section finds optimal values for hyperparameters within the network. The best architecture found previousely will be used as the baseline for comparisons."
   ]
  },
  {
   "cell_type": "code",
   "execution_count": 64,
   "id": "b1e94ef3",
   "metadata": {},
   "outputs": [
    {
     "name": "stdout",
     "output_type": "stream",
     "text": [
      "training:  256\n",
      "training:  1024\n",
      "training:  4096\n",
      "training:  10240\n",
      "{'256': 0.9187321439385414, '1024': 0.9017812192440033, '4096': 0.9789913892745972, '10240': 1.1397658586502075}\n"
     ]
    },
    {
     "data": {
      "image/png": "[encoded data removed]",
      "text/plain": [
       "<Figure size 432x288 with 1 Axes>"
      ]
     },
     "metadata": {
      "needs_background": "light"
     },
     "output_type": "display_data"
    }
   ],
   "source": [
    "#set up all batch sizes that will be tested\n",
    "batch_sizes = [ 256, 1024, 4096,10240]\n",
    "\n",
    "#will store overall loss for each batch_size\n",
    "batches_loss = {}\n",
    "\n",
    "#loop through batch_sizes\n",
    "for current_batch_size in batch_sizes:\n",
    "    print('training: ',current_batch_size)\n",
    "    \n",
    "    #create data_loaders for given batch\n",
    "    train_loader = torch.utils.data.DataLoader(dataset = training_set, batch_size = current_batch_size, shuffle=True)\n",
    "    cv_loader = torch.utils.data.DataLoader(dataset = cv_set, batch_size = current_batch_size, shuffle=True)\n",
    "    \n",
    "    layers = nn.Sequential(\n",
    "        nn.Linear(64,32),  \n",
    "        nn.ReLU(),\n",
    "        nn.Linear(32,16),\n",
    "        nn.ReLU(),\n",
    "        nn.Linear(16,1)\n",
    "        )\n",
    "    model_ = RecNet(num_users,num_movies,layers).cuda()\n",
    "    optimizer = optim.Adam(model_.parameters(), lr=0.1)\n",
    "    \n",
    "    train_losses, cv_losses = train_network(1, model_, train_loader, cv_loader)\n",
    "\n",
    "    batches_loss[f\"{current_batch_size}\"] = cv_losses[-1] \n",
    "print(batches_loss)\n",
    "\n",
    "#remove batch size = 10240 since cost is too high. warps graph\n",
    "batches_loss.pop('10240')\n",
    "batches = list(batches_loss.keys())\n",
    "vals = list(batches_loss.values())\n",
    "\n",
    "fig1, ax1 = plt.subplots()\n",
    "\n",
    "\n",
    "ax1.bar(batches,vals , color ='maroon', width = 0.4)\n",
    "plt.title('Batch Size Comparison')\n",
    "plt.xlabel('Batch Sizes')\n",
    "plt.ylabel('RMSE')\n",
    "ax1.set_ylim(bottom=0.85)\n",
    "plt.show()"
   ]
  },
  {
   "cell_type": "markdown",
   "id": "8b0d003c",
   "metadata": {},
   "source": [
    "It can be seen that a batch size of 1024 provides the best final cost after training and is therefore the ideal choice for batch size when training "
   ]
  },
  {
   "cell_type": "code",
   "execution_count": 11,
   "id": "ebc72974",
   "metadata": {
    "scrolled": true
   },
   "outputs": [
    {
     "name": "stdout",
     "output_type": "stream",
     "text": [
      "training:  0.001\n",
      "training:  0.01\n",
      "training:  0.1\n",
      "{0.001: 2.1153454780578613, 0.01: 0.9608966708183289, 0.1: 0.9148385047912597}\n"
     ]
    },
    {
     "data": {
      "image/png": "[encoded data removed]",
      "text/plain": [
       "<Figure size 432x288 with 1 Axes>"
      ]
     },
     "metadata": {
      "needs_background": "light"
     },
     "output_type": "display_data"
    }
   ],
   "source": [
    "#set up all learning rates that will be tested\n",
    "learning_rates = [0.001,0.01,0.1]\n",
    "\n",
    "#will store overall loss for each learning rate\n",
    "lr_losses = {}\n",
    "\n",
    "#loop through learning rates\n",
    "for learning_rate in learning_rates:\n",
    "    print('training: ',learning_rate)\n",
    "    \n",
    "    layers = nn.Sequential(\n",
    "        nn.Linear(64,32),  \n",
    "        nn.ReLU(),\n",
    "        nn.Linear(32,16),\n",
    "        nn.ReLU(),\n",
    "        nn.Linear(16,1)\n",
    "        )\n",
    "    \n",
    "    model_ = RecNet(num_users,num_movies,layers).cuda()\n",
    "    optimizer = optim.Adam(model_.parameters(), lr=learning_rate)\n",
    "    \n",
    "    train_losses, cv_losses = train_network(1, model_, train_loader_1024, cv_loader_1024)\n",
    "\n",
    "    lr_losses[learning_rate] = cv_losses[-1]\n",
    "    \n",
    "    #plot errors reducing with each learning rate\n",
    "    plt.plot(train_losses, label = learning_rate)\n",
    "\n",
    "print(lr_losses)\n",
    "plt.xlabel('Batches')\n",
    "plt.ylabel('RMSE')\n",
    "plt.legend()\n",
    "plt.show()"
   ]
  },
  {
   "cell_type": "markdown",
   "id": "62048731",
   "metadata": {},
   "source": [
    "It can be seen in the graph above that the learning rate that converges the fastest and to the lowest point is 0.1. This will threfore be used for the final model"
   ]
  },
  {
   "cell_type": "markdown",
   "id": "a724dac3",
   "metadata": {},
   "source": [
    "### Regularisation"
   ]
  },
  {
   "cell_type": "markdown",
   "id": "27d37684",
   "metadata": {},
   "source": [
    "It can be seen that the best architecture found previously has a relatively large split between train and test error. This is indicative of overfitting and therefore regularisation techniques may be useful. The following section goes on to test 2 regularisation techniques, namely L2 regularisation and drop out."
   ]
  },
  {
   "cell_type": "code",
   "execution_count": 66,
   "id": "843cba37",
   "metadata": {},
   "outputs": [],
   "source": [
    "#no regularisation\n",
    "layers = nn.Sequential(\n",
    "        nn.Linear(64,32),  \n",
    "        nn.ReLU(),\n",
    "        nn.Linear(32,16),\n",
    "        nn.ReLU(),\n",
    "        nn.Linear(16,1)\n",
    "        )\n",
    "baseline = RecNet(num_users,num_movies,layers).cuda()\n",
    "optimizer = optim.Adam(baseline.parameters(), lr=0.1)"
   ]
  },
  {
   "cell_type": "code",
   "execution_count": 67,
   "id": "64237476",
   "metadata": {},
   "outputs": [
    {
     "name": "stdout",
     "output_type": "stream",
     "text": [
      "............................................................................................................................................................................................................................................."
     ]
    }
   ],
   "source": [
    "un_reg_train_losses, un_reg_test_losses = train_network(3, baseline, train_loader_1024, cv_loader_1024,True)"
   ]
  },
  {
   "cell_type": "code",
   "execution_count": 80,
   "id": "dff94e90",
   "metadata": {},
   "outputs": [],
   "source": [
    "#dropout\n",
    "layers = nn.Sequential(\n",
    "        nn.Linear(64,32), \n",
    "        nn.ReLU(),\n",
    "        nn.Dropout(0.6),\n",
    "        nn.Linear(32,16),\n",
    "        nn.ReLU(),\n",
    "        nn.Dropout(0.6),\n",
    "        nn.Linear(16,1)\n",
    "        )\n",
    "do_model = RecNet(num_users,num_movies,layers).cuda()\n",
    "optimizer = optim.Adam(do_model.parameters(), lr=0.1)"
   ]
  },
  {
   "cell_type": "code",
   "execution_count": 81,
   "id": "b66c8c94",
   "metadata": {},
   "outputs": [
    {
     "name": "stdout",
     "output_type": "stream",
     "text": [
      "............................................................................................................................................................................................................................................."
     ]
    }
   ],
   "source": [
    "do_train_losses, do_test_losses = train_network(3, do_model, train_loader_1024,cv_loader_1024,True)"
   ]
  },
  {
   "cell_type": "code",
   "execution_count": 70,
   "id": "f5e48a8c",
   "metadata": {},
   "outputs": [],
   "source": [
    "#L2 regularisation (weight_decay variable in optimiser)\n",
    "layers = nn.Sequential(\n",
    "        nn.Linear(64,32),  \n",
    "        nn.ReLU(),\n",
    "        nn.Linear(32,16),\n",
    "        nn.ReLU(),\n",
    "        nn.Linear(16,1)\n",
    "        )\n",
    "reg_model = RecNet(num_users,num_movies,layers).cuda()\n",
    "optimizer = optim.Adam(reg_model.parameters(), lr=0.1, weight_decay = 0.001)"
   ]
  },
  {
   "cell_type": "code",
   "execution_count": 71,
   "id": "2012f724",
   "metadata": {},
   "outputs": [
    {
     "name": "stdout",
     "output_type": "stream",
     "text": [
      "............................................................................................................................................................................................................................................."
     ]
    }
   ],
   "source": [
    "reg_train_losses, reg_test_losses = train_network(3, reg_model, train_loader_1024, cv_loader_1024,True)"
   ]
  },
  {
   "cell_type": "code",
   "execution_count": 82,
   "id": "76bfbb3c",
   "metadata": {
    "scrolled": false
   },
   "outputs": [
    {
     "data": {
      "image/png": "[encoded data removed]",
      "text/plain": [
       "<Figure size 432x288 with 1 Axes>"
      ]
     },
     "metadata": {
      "needs_background": "light"
     },
     "output_type": "display_data"
    }
   ],
   "source": [
    "fig2, ax2 = plt.subplots()\n",
    "\n",
    "y_tests = [un_reg_test_losses[-1],reg_test_losses[-1],do_test_losses[-1]]\n",
    "y_trains =  [un_reg_train_losses[-1],reg_train_losses[-1],do_train_losses[-1]]\n",
    "\n",
    "x = ['not regularised','L2 Regularasation','Dropout']\n",
    "X_axis = np.arange(3)\n",
    "ax2.bar(X_axis - 0.2, y_trains, 0.4, label = 'Train')\n",
    "ax2.bar(X_axis + 0.2, y_tests, 0.4, label = 'Test')\n",
    "plt.xticks(X_axis, x)\n",
    "plt.title('Regularisation Method Comparison')\n",
    "plt.xlabel('Regularisation Type')\n",
    "plt.ylabel('RMSE')\n",
    "ax2.set_ylim(bottom=0.7)\n",
    "plt.legend()\n",
    "plt.show()"
   ]
  },
  {
   "cell_type": "markdown",
   "id": "b61db133",
   "metadata": {},
   "source": [
    "It can be seen that the non-regularised baseline has a large gap between error on the training set and error on the test set. It can be seen that L2 regularisation reduces the overfitting but increase both train and test error. It is therefore not a suitable solution. Dropout on the other hand decreases overfitting and at the same time brings down the test error. It is therefore deided that the final model will incorporate dropout"
   ]
  },
  {
   "cell_type": "markdown",
   "id": "b53625c6",
   "metadata": {},
   "source": [
    "### Final Model"
   ]
  },
  {
   "cell_type": "code",
   "execution_count": 83,
   "id": "09f0b16b",
   "metadata": {},
   "outputs": [
    {
     "name": "stdout",
     "output_type": "stream",
     "text": [
      "............................................................................................................................................................................................................................................."
     ]
    }
   ],
   "source": [
    "layers = nn.Sequential(\n",
    "        nn.Linear(64,32),\n",
    "        nn.ReLU(),\n",
    "        nn.Dropout(0.6),\n",
    "        nn.Linear(32,16),\n",
    "        nn.ReLU(),\n",
    "        nn.Dropout(0.6),\n",
    "        nn.Linear(16,1)\n",
    "        )\n",
    "final_model = RecNet(num_users,num_movies,layers).cuda()\n",
    "optimizer = optim.Adam(final_model.parameters(), lr=0.1)\n",
    "\n",
    "final_train_losses, final_test_losses = train_network(3, final_model, train_loader_1024, test_loader_1024,True)"
   ]
  },
  {
   "cell_type": "code",
   "execution_count": 101,
   "id": "c7451c47",
   "metadata": {},
   "outputs": [
    {
     "name": "stdout",
     "output_type": "stream",
     "text": [
      "original model train error = 0.8007883829406545, original model test error = 0.9396374523639679\n",
      "final train error = 0.7673668280432496,final test error = 0.8976085186004639\n"
     ]
    },
    {
     "data": {
      "image/png": "[encoded data removed]",
      "text/plain": [
       "<Figure size 432x288 with 1 Axes>"
      ]
     },
     "metadata": {
      "needs_background": "light"
     },
     "output_type": "display_data"
    }
   ],
   "source": [
    "plt.plot(final_test_losses, label = \"RecNet\")\n",
    "plt.axhline(rmse_CF,c='red',label = \"Baseline CF\")\n",
    "plt.xlabel('Batches')\n",
    "plt.ylabel('RMSE')\n",
    "plt.legend()\n",
    "\n",
    "plt.savefig('rmse1.png')\n",
    "print(f\"original model train error = {baseline_train_losses[-1]}, original model test error = {baseline_test_losses[-1]}\")\n",
    "print(f\"final train error = {final_train_losses[-1]},final test error = {final_test_losses[-1]}\")"
   ]
  },
  {
   "cell_type": "markdown",
   "id": "5754df37",
   "metadata": {},
   "source": [
    "It can be seen that various improvements to the baseline method have led to a reduced test error and therefore a better recommender system. The system signifcantly outperforms the baseline traditional Collaborative Filtering Techniques."
   ]
  }
 ],
 "metadata": {
  "kernelspec": {
   "display_name": "Python 3",
   "language": "python",
   "name": "python3"
  },
  "language_info": {
   "codemirror_mode": {
    "name": "ipython",
    "version": 3
   },
   "file_extension": ".py",
   "mimetype": "text/x-python",
   "name": "python",
   "nbconvert_exporter": "python",
   "pygments_lexer": "ipython3",
   "version": "3.8.8"
  }
 },
 "nbformat": 4,
 "nbformat_minor": 5
}
